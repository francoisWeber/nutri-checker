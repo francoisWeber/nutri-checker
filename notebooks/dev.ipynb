{
 "cells": [
  {
   "cell_type": "code",
   "execution_count": 1,
   "metadata": {},
   "outputs": [],
   "source": [
    "from nutri_checker.data.loader import load_nutri_data, COLUMNS_QUANTI, COLUMNS_QUALI\n",
    "from nutri_checker.search.bm25 import NutriIndex\n",
    "from nutri_checker.models.food import Aliment, Ingredient, Dish\n",
    "import pandas as pd\n",
    "from loguru import logger\n",
    "import numpy as np"
   ]
  },
  {
   "cell_type": "code",
   "execution_count": 2,
   "metadata": {},
   "outputs": [],
   "source": [
    "NUTRIDATA_PATH = \"../data/table_Ciqual_2020_FR_20200707.xls\"\n",
    "NUTRI_MISSING_DATA_PATH = \"../data/missing_values.json\""
   ]
  },
  {
   "cell_type": "code",
   "execution_count": 3,
   "metadata": {},
   "outputs": [],
   "source": [
    "df = load_nutri_data(NUTRIDATA_PATH, NUTRI_MISSING_DATA_PATH)\n",
    "index = NutriIndex(df)"
   ]
  },
  {
   "cell_type": "code",
   "execution_count": 10,
   "metadata": {},
   "outputs": [],
   "source": [
    "meals = [\n",
    "    {\n",
    "        \"name\": \"petit dej tartine miel\",\n",
    "        \"ingredients\": [\n",
    "            (\"beurre de cacahuètes\", 25),\n",
    "            (\"miel\", 25),\n",
    "            (\"pain intégral\", 75),\n",
    "        ],\n",
    "    },\n",
    "    {\n",
    "        \"name\": \"oeuf plat\",\n",
    "        \"ingredients\": [\n",
    "            (\"oeuf blanc\", 60 * 65 / 100 * 2),\n",
    "            (\"oeuf jaune\", 60 * 35 / 100 * 2),\n",
    "            (\"huile olive\", 5),\n",
    "        ],\n",
    "    },\n",
    "    {\n",
    "        \"name\": \"fondue de poireaux\",\n",
    "        \"ingredients\": [\n",
    "            (\"poireau\", 100),\n",
    "            (\"oignon\", 50),\n",
    "            (\"lait demi\", 5),\n",
    "            (\"moutarde\", 5),\n",
    "            (\"huile olive\", 10),\n",
    "        ],\n",
    "    },\n",
    "    {\n",
    "        \"name\": \"dahl\",\n",
    "        \"ingredients\": [\n",
    "            (\"oignon\", 100 * 0.2),\n",
    "            (\"huile olive\", 15 * 0.2),\n",
    "            (\"lentille corail\", 250 * 0.2),\n",
    "            (\"lait coco\", 200 * 0.2),\n",
    "            (\"sauce tomate\", 160 * 0.2),\n",
    "            (\"curry\", 8 * 0.2),\n",
    "            (\"beurre cacahuètes\", 20 * 0.2),\n",
    "            (\"ail cru\", 9 * 0.2),\n",
    "            (\"carottes cuites\", 145 * 0.2),\n",
    "            (\"navet cuites\", 250 * 0.2),\n",
    "        ],\n",
    "    },\n",
    "]"
   ]
  },
  {
   "cell_type": "code",
   "execution_count": 12,
   "metadata": {},
   "outputs": [
    {
     "name": "stderr",
     "output_type": "stream",
     "text": [
      "\u001b[32m2025-02-28 09:53:45.463\u001b[0m | \u001b[33m\u001b[1mWARNING \u001b[0m | \u001b[36mnutri_checker.models.food\u001b[0m:\u001b[36m__post_init__\u001b[0m:\u001b[36m67\u001b[0m - \u001b[33m\u001b[1mAliment miel is not raw food\u001b[0m\n",
      "\u001b[32m2025-02-28 09:53:45.465\u001b[0m | \u001b[33m\u001b[1mWARNING \u001b[0m | \u001b[36mnutri_checker.models.food\u001b[0m:\u001b[36m__post_init__\u001b[0m:\u001b[36m67\u001b[0m - \u001b[33m\u001b[1mAliment huile d'olive vierge extra is not raw food\u001b[0m\n",
      "\u001b[32m2025-02-28 09:53:45.470\u001b[0m | \u001b[33m\u001b[1mWARNING \u001b[0m | \u001b[36mnutri_checker.models.food\u001b[0m:\u001b[36m__post_init__\u001b[0m:\u001b[36m67\u001b[0m - \u001b[33m\u001b[1mAliment lait demi-écrémé, pasteurisé is not raw food\u001b[0m\n",
      "\u001b[32m2025-02-28 09:53:45.472\u001b[0m | \u001b[33m\u001b[1mWARNING \u001b[0m | \u001b[36mnutri_checker.models.food\u001b[0m:\u001b[36m__post_init__\u001b[0m:\u001b[36m67\u001b[0m - \u001b[33m\u001b[1mAliment huile d'olive vierge extra is not raw food\u001b[0m\n",
      "\u001b[32m2025-02-28 09:53:45.474\u001b[0m | \u001b[33m\u001b[1mWARNING \u001b[0m | \u001b[36mnutri_checker.models.food\u001b[0m:\u001b[36m__post_init__\u001b[0m:\u001b[36m67\u001b[0m - \u001b[33m\u001b[1mAliment huile d'olive vierge extra is not raw food\u001b[0m\n"
     ]
    }
   ],
   "source": [
    "dishes = []\n",
    "for meal in meals:\n",
    "    dish = Dish(\n",
    "        name=meal[\"name\"],\n",
    "        ingredients=[\n",
    "            Ingredient(Aliment.from_name_in_nutridata(name, index), quantity_g=quantity)\n",
    "            for name, quantity in meal[\"ingredients\"]\n",
    "        ],\n",
    "    )"
   ]
  },
  {
   "cell_type": "code",
   "execution_count": 5,
   "metadata": {},
   "outputs": [
    {
     "name": "stderr",
     "output_type": "stream",
     "text": [
      "\u001b[32m2025-03-01 19:54:27.875\u001b[0m | \u001b[33m\u001b[1mWARNING \u001b[0m | \u001b[36mnutri_checker.models.food\u001b[0m:\u001b[36m__post_init__\u001b[0m:\u001b[36m67\u001b[0m - \u001b[33m\u001b[1mAliment huile d'olive vierge extra is not raw food\u001b[0m\n"
     ]
    }
   ],
   "source": [
    "d = Dish(\n",
    "    \"test\",\n",
    "    ingredients=[\n",
    "        Ingredient(Aliment.from_name_in_nutridata(\"huile olive\", index), 30),\n",
    "        Ingredient(Aliment.from_name_in_nutridata(\"viande poulet cru\", index), 200),\n",
    "    ],\n",
    ")"
   ]
  },
  {
   "cell_type": "code",
   "execution_count": 10,
   "metadata": {},
   "outputs": [
    {
     "data": {
      "application/vnd.microsoft.datawrangler.viewer.v0+json": {
       "columns": [
        {
         "name": "index",
         "rawType": "int64",
         "type": "integer"
        },
        {
         "name": "grp_name_fr",
         "rawType": "object",
         "type": "string"
        },
        {
         "name": "ssgrp_name_fr",
         "rawType": "object",
         "type": "string"
        },
        {
         "name": "ssssgrp_name_fr",
         "rawType": "object",
         "type": "string"
        },
        {
         "name": "name_fr",
         "rawType": "object",
         "type": "string"
        },
        {
         "name": "grp_code",
         "rawType": "int64",
         "type": "integer"
        },
        {
         "name": "ssgrp_code",
         "rawType": "int64",
         "type": "integer"
        },
        {
         "name": "ssssgrp_code",
         "rawType": "int64",
         "type": "integer"
        },
        {
         "name": "code",
         "rawType": "int64",
         "type": "integer"
        },
        {
         "name": "energy_kcal",
         "rawType": "float64",
         "type": "float"
        },
        {
         "name": "water_g",
         "rawType": "float64",
         "type": "float"
        },
        {
         "name": "prot_g",
         "rawType": "float64",
         "type": "float"
        },
        {
         "name": "glucid_g",
         "rawType": "float64",
         "type": "float"
        },
        {
         "name": "lipid_g",
         "rawType": "float64",
         "type": "float"
        },
        {
         "name": "sugar_g",
         "rawType": "float64",
         "type": "float"
        },
        {
         "name": "sugar_fructose_g",
         "rawType": "float64",
         "type": "float"
        },
        {
         "name": "sugar_galactose_g",
         "rawType": "float64",
         "type": "float"
        },
        {
         "name": "sugar_glucose_g",
         "rawType": "float64",
         "type": "float"
        },
        {
         "name": "sugar_lactose_g",
         "rawType": "float64",
         "type": "float"
        },
        {
         "name": "sugar_maltose_g",
         "rawType": "float64",
         "type": "float"
        },
        {
         "name": "sugar_saccharose_g",
         "rawType": "float64",
         "type": "float"
        },
        {
         "name": "amidon_g",
         "rawType": "float64",
         "type": "float"
        },
        {
         "name": "fiber_g",
         "rawType": "float64",
         "type": "float"
        },
        {
         "name": "alcool_g",
         "rawType": "float64",
         "type": "float"
        },
        {
         "name": "acid_sat_g",
         "rawType": "float64",
         "type": "float"
        },
        {
         "name": "acid_monoinsat_g",
         "rawType": "float64",
         "type": "float"
        },
        {
         "name": "acid_polyinsat_g",
         "rawType": "float64",
         "type": "float"
        },
        {
         "name": "cholesterol_g",
         "rawType": "float64",
         "type": "float"
        },
        {
         "name": "salt_g",
         "rawType": "float64",
         "type": "float"
        },
        {
         "name": "calcium_mg",
         "rawType": "float64",
         "type": "float"
        },
        {
         "name": "iron_mg",
         "rawType": "float64",
         "type": "float"
        },
        {
         "name": "mg_mg",
         "rawType": "float64",
         "type": "float"
        },
        {
         "name": "vit_a_ug",
         "rawType": "float64",
         "type": "float"
        },
        {
         "name": "vit_d_ug",
         "rawType": "float64",
         "type": "float"
        },
        {
         "name": "vit_e_mg",
         "rawType": "float64",
         "type": "float"
        },
        {
         "name": "vit_k1_ug",
         "rawType": "float64",
         "type": "float"
        },
        {
         "name": "vit_k2_ug",
         "rawType": "float64",
         "type": "float"
        },
        {
         "name": "vit_c_mg",
         "rawType": "float64",
         "type": "float"
        },
        {
         "name": "vit_b1_mg",
         "rawType": "float64",
         "type": "float"
        },
        {
         "name": "vit_b2_mg",
         "rawType": "float64",
         "type": "float"
        },
        {
         "name": "vit_b3_mg",
         "rawType": "float64",
         "type": "float"
        },
        {
         "name": "vit_b5_mg",
         "rawType": "float64",
         "type": "float"
        },
        {
         "name": "vit_b6_mg",
         "rawType": "float64",
         "type": "float"
        },
        {
         "name": "vit_b9_ug",
         "rawType": "float64",
         "type": "float"
        },
        {
         "name": "vit_b12_ug",
         "rawType": "float64",
         "type": "float"
        },
        {
         "name": "sodium_mg",
         "rawType": "float64",
         "type": "float"
        },
        {
         "name": "phosphore_mg",
         "rawType": "float64",
         "type": "float"
        },
        {
         "name": "selenium_ug",
         "rawType": "float64",
         "type": "float"
        },
        {
         "name": "zinc_mg",
         "rawType": "float64",
         "type": "float"
        },
        {
         "name": "chlorure_mg",
         "rawType": "float64",
         "type": "float"
        },
        {
         "name": "cu_mg",
         "rawType": "float64",
         "type": "float"
        },
        {
         "name": "mn_mg",
         "rawType": "float64",
         "type": "float"
        },
        {
         "name": "raw_food",
         "rawType": "bool",
         "type": "boolean"
        }
       ],
       "conversionMethod": "pd.DataFrame",
       "ref": "0c034cf8-9a5c-419f-9303-e9a1e67689ed",
       "rows": [
        [
         "2895",
         "matières grasses",
         "huiles et graisses végétales",
         "-",
         "huile d'olive vierge extra",
         "9",
         "902",
         "0",
         "17270",
         "9.0",
         "0.001",
         "0.0",
         "0.0",
         "0.9990000000000001",
         "0.0",
         "0.0",
         "0.0",
         "0.0",
         "0.0",
         "0.0",
         "0.0",
         "0.0",
         "0.0",
         "0.0",
         "0.152",
         "0.731",
         "0.0717",
         "0.0",
         "0.0",
         "0.0",
         "0.0",
         "0.0",
         "0.0",
         "0.0",
         "0.223",
         "0.581",
         null,
         "0.0",
         "0.0",
         "0.0",
         "0.0",
         "0.0",
         "0.0",
         "0.0",
         "0.0",
         "0.0",
         "0.0",
         "0.0",
         "0.0",
         "0.0",
         "0.0",
         "0.0",
         "False"
        ]
       ],
       "shape": {
        "columns": 52,
        "rows": 1
       }
      },
      "text/html": [
       "<div>\n",
       "<style scoped>\n",
       "    .dataframe tbody tr th:only-of-type {\n",
       "        vertical-align: middle;\n",
       "    }\n",
       "\n",
       "    .dataframe tbody tr th {\n",
       "        vertical-align: top;\n",
       "    }\n",
       "\n",
       "    .dataframe thead th {\n",
       "        text-align: right;\n",
       "    }\n",
       "</style>\n",
       "<table border=\"1\" class=\"dataframe\">\n",
       "  <thead>\n",
       "    <tr style=\"text-align: right;\">\n",
       "      <th></th>\n",
       "      <th>grp_name_fr</th>\n",
       "      <th>ssgrp_name_fr</th>\n",
       "      <th>ssssgrp_name_fr</th>\n",
       "      <th>name_fr</th>\n",
       "      <th>grp_code</th>\n",
       "      <th>ssgrp_code</th>\n",
       "      <th>ssssgrp_code</th>\n",
       "      <th>code</th>\n",
       "      <th>energy_kcal</th>\n",
       "      <th>water_g</th>\n",
       "      <th>...</th>\n",
       "      <th>vit_b9_ug</th>\n",
       "      <th>vit_b12_ug</th>\n",
       "      <th>sodium_mg</th>\n",
       "      <th>phosphore_mg</th>\n",
       "      <th>selenium_ug</th>\n",
       "      <th>zinc_mg</th>\n",
       "      <th>chlorure_mg</th>\n",
       "      <th>cu_mg</th>\n",
       "      <th>mn_mg</th>\n",
       "      <th>raw_food</th>\n",
       "    </tr>\n",
       "  </thead>\n",
       "  <tbody>\n",
       "    <tr>\n",
       "      <th>2895</th>\n",
       "      <td>matières grasses</td>\n",
       "      <td>huiles et graisses végétales</td>\n",
       "      <td>-</td>\n",
       "      <td>huile d'olive vierge extra</td>\n",
       "      <td>9</td>\n",
       "      <td>902</td>\n",
       "      <td>0</td>\n",
       "      <td>17270</td>\n",
       "      <td>9.0</td>\n",
       "      <td>0.001</td>\n",
       "      <td>...</td>\n",
       "      <td>0.0</td>\n",
       "      <td>0.0</td>\n",
       "      <td>0.0</td>\n",
       "      <td>0.0</td>\n",
       "      <td>0.0</td>\n",
       "      <td>0.0</td>\n",
       "      <td>0.0</td>\n",
       "      <td>0.0</td>\n",
       "      <td>0.0</td>\n",
       "      <td>False</td>\n",
       "    </tr>\n",
       "  </tbody>\n",
       "</table>\n",
       "<p>1 rows × 52 columns</p>\n",
       "</div>"
      ],
      "text/plain": [
       "           grp_name_fr                 ssgrp_name_fr ssssgrp_name_fr  \\\n",
       "2895  matières grasses  huiles et graisses végétales               -   \n",
       "\n",
       "                         name_fr  grp_code  ssgrp_code  ssssgrp_code   code  \\\n",
       "2895  huile d'olive vierge extra         9         902             0  17270   \n",
       "\n",
       "      energy_kcal  water_g  ...  vit_b9_ug  vit_b12_ug  sodium_mg  \\\n",
       "2895          9.0    0.001  ...        0.0         0.0        0.0   \n",
       "\n",
       "      phosphore_mg  selenium_ug  zinc_mg  chlorure_mg  cu_mg  mn_mg  raw_food  \n",
       "2895           0.0          0.0      0.0          0.0    0.0    0.0     False  \n",
       "\n",
       "[1 rows x 52 columns]"
      ]
     },
     "execution_count": 10,
     "metadata": {},
     "output_type": "execute_result"
    }
   ],
   "source": [
    "index.retrieve(\"huile olive\")"
   ]
  },
  {
   "cell_type": "code",
   "execution_count": 9,
   "metadata": {},
   "outputs": [
    {
     "data": {
      "application/vnd.microsoft.datawrangler.viewer.v0+json": {
       "columns": [
        {
         "name": "index",
         "rawType": "int64",
         "type": "integer"
        },
        {
         "name": "grp_name_fr",
         "rawType": "object",
         "type": "string"
        },
        {
         "name": "ssgrp_name_fr",
         "rawType": "object",
         "type": "string"
        },
        {
         "name": "ssssgrp_name_fr",
         "rawType": "object",
         "type": "string"
        },
        {
         "name": "name_fr",
         "rawType": "object",
         "type": "string"
        },
        {
         "name": "grp_code",
         "rawType": "int64",
         "type": "integer"
        },
        {
         "name": "ssgrp_code",
         "rawType": "int64",
         "type": "integer"
        },
        {
         "name": "ssssgrp_code",
         "rawType": "int64",
         "type": "integer"
        },
        {
         "name": "code",
         "rawType": "int64",
         "type": "integer"
        },
        {
         "name": "energy_kcal",
         "rawType": "float64",
         "type": "float"
        },
        {
         "name": "water_g",
         "rawType": "float64",
         "type": "float"
        },
        {
         "name": "prot_g",
         "rawType": "float64",
         "type": "float"
        },
        {
         "name": "glucid_g",
         "rawType": "float64",
         "type": "float"
        },
        {
         "name": "lipid_g",
         "rawType": "float64",
         "type": "float"
        },
        {
         "name": "sugar_g",
         "rawType": "float64",
         "type": "float"
        },
        {
         "name": "sugar_fructose_g",
         "rawType": "float64",
         "type": "float"
        },
        {
         "name": "sugar_galactose_g",
         "rawType": "float64",
         "type": "float"
        },
        {
         "name": "sugar_glucose_g",
         "rawType": "float64",
         "type": "float"
        },
        {
         "name": "sugar_lactose_g",
         "rawType": "float64",
         "type": "float"
        },
        {
         "name": "sugar_maltose_g",
         "rawType": "float64",
         "type": "float"
        },
        {
         "name": "sugar_saccharose_g",
         "rawType": "float64",
         "type": "float"
        },
        {
         "name": "amidon_g",
         "rawType": "float64",
         "type": "float"
        },
        {
         "name": "fiber_g",
         "rawType": "float64",
         "type": "float"
        },
        {
         "name": "alcool_g",
         "rawType": "float64",
         "type": "float"
        },
        {
         "name": "acid_sat_g",
         "rawType": "float64",
         "type": "float"
        },
        {
         "name": "acid_monoinsat_g",
         "rawType": "float64",
         "type": "float"
        },
        {
         "name": "acid_polyinsat_g",
         "rawType": "float64",
         "type": "float"
        },
        {
         "name": "cholesterol_g",
         "rawType": "float64",
         "type": "float"
        },
        {
         "name": "salt_g",
         "rawType": "float64",
         "type": "float"
        },
        {
         "name": "calcium_mg",
         "rawType": "float64",
         "type": "float"
        },
        {
         "name": "iron_mg",
         "rawType": "float64",
         "type": "float"
        },
        {
         "name": "mg_mg",
         "rawType": "float64",
         "type": "float"
        },
        {
         "name": "vit_a_ug",
         "rawType": "float64",
         "type": "float"
        },
        {
         "name": "vit_d_ug",
         "rawType": "float64",
         "type": "float"
        },
        {
         "name": "vit_e_mg",
         "rawType": "float64",
         "type": "float"
        },
        {
         "name": "vit_k1_ug",
         "rawType": "float64",
         "type": "float"
        },
        {
         "name": "vit_k2_ug",
         "rawType": "float64",
         "type": "float"
        },
        {
         "name": "vit_c_mg",
         "rawType": "float64",
         "type": "float"
        },
        {
         "name": "vit_b1_mg",
         "rawType": "float64",
         "type": "float"
        },
        {
         "name": "vit_b2_mg",
         "rawType": "float64",
         "type": "float"
        },
        {
         "name": "vit_b3_mg",
         "rawType": "float64",
         "type": "float"
        },
        {
         "name": "vit_b5_mg",
         "rawType": "float64",
         "type": "float"
        },
        {
         "name": "vit_b6_mg",
         "rawType": "float64",
         "type": "float"
        },
        {
         "name": "vit_b9_ug",
         "rawType": "float64",
         "type": "float"
        },
        {
         "name": "vit_b12_ug",
         "rawType": "float64",
         "type": "float"
        },
        {
         "name": "sodium_mg",
         "rawType": "float64",
         "type": "float"
        },
        {
         "name": "phosphore_mg",
         "rawType": "float64",
         "type": "float"
        },
        {
         "name": "selenium_ug",
         "rawType": "float64",
         "type": "float"
        },
        {
         "name": "zinc_mg",
         "rawType": "float64",
         "type": "float"
        },
        {
         "name": "chlorure_mg",
         "rawType": "float64",
         "type": "float"
        },
        {
         "name": "cu_mg",
         "rawType": "float64",
         "type": "float"
        },
        {
         "name": "mn_mg",
         "rawType": "float64",
         "type": "float"
        }
       ],
       "conversionMethod": "pd.DataFrame",
       "ref": "22b8f848-858c-4df3-9215-3f78658a2bcc",
       "rows": [
        [
         "0",
         "matières grasses",
         "huiles et graisses végétales",
         "-",
         "huile d'olive vierge extra",
         "9",
         "902",
         "0",
         "17270",
         "270.0",
         "0.03",
         "0.0",
         "0.0",
         "29.970000000000002",
         "0.0",
         "0.0",
         "0.0",
         "0.0",
         "0.0",
         "0.0",
         "0.0",
         "0.0",
         "0.0",
         "0.0",
         "4.56",
         "21.93",
         "2.151",
         "0.0",
         "0.0",
         "0.0",
         "0.0",
         "0.0",
         "0.0",
         "0.0",
         "6.69",
         "17.43",
         null,
         "0.0",
         "0.0",
         "0.0",
         "0.0",
         "0.0",
         "0.0",
         "0.0",
         "0.0",
         "0.0",
         "0.0",
         "0.0",
         "0.0",
         "0.0",
         "0.0",
         "0.0"
        ],
        [
         "1",
         "viandes, œufs, poissons et assimilés",
         "viandes crues",
         "poulet",
         "poulet, viande et peau, cru",
         "4",
         "402",
         "40203",
         "36016",
         "346.0",
         "136.2",
         "40.4",
         "0.6",
         "20.2",
         "0.4",
         "0.0",
         null,
         "0.0",
         "0.0",
         "0.0",
         "0.0",
         "0.0",
         "0.0",
         "0.0",
         "5.62",
         "9.04",
         "4.68",
         "152.6",
         "0.32",
         "19.38",
         "3.26",
         "39.6",
         "49.6",
         "1.06",
         "0.64",
         "3.0",
         null,
         "3.2",
         "0.24",
         "0.96",
         "14.08",
         "1.96",
         "1.08",
         "20.8",
         "2.58",
         "124.6",
         "348.0",
         "24.8",
         "2.6",
         null,
         "0.28",
         "0.052"
        ]
       ],
       "shape": {
        "columns": 51,
        "rows": 2
       }
      },
      "text/html": [
       "<div>\n",
       "<style scoped>\n",
       "    .dataframe tbody tr th:only-of-type {\n",
       "        vertical-align: middle;\n",
       "    }\n",
       "\n",
       "    .dataframe tbody tr th {\n",
       "        vertical-align: top;\n",
       "    }\n",
       "\n",
       "    .dataframe thead th {\n",
       "        text-align: right;\n",
       "    }\n",
       "</style>\n",
       "<table border=\"1\" class=\"dataframe\">\n",
       "  <thead>\n",
       "    <tr style=\"text-align: right;\">\n",
       "      <th></th>\n",
       "      <th>grp_name_fr</th>\n",
       "      <th>ssgrp_name_fr</th>\n",
       "      <th>ssssgrp_name_fr</th>\n",
       "      <th>name_fr</th>\n",
       "      <th>grp_code</th>\n",
       "      <th>ssgrp_code</th>\n",
       "      <th>ssssgrp_code</th>\n",
       "      <th>code</th>\n",
       "      <th>energy_kcal</th>\n",
       "      <th>water_g</th>\n",
       "      <th>...</th>\n",
       "      <th>vit_b6_mg</th>\n",
       "      <th>vit_b9_ug</th>\n",
       "      <th>vit_b12_ug</th>\n",
       "      <th>sodium_mg</th>\n",
       "      <th>phosphore_mg</th>\n",
       "      <th>selenium_ug</th>\n",
       "      <th>zinc_mg</th>\n",
       "      <th>chlorure_mg</th>\n",
       "      <th>cu_mg</th>\n",
       "      <th>mn_mg</th>\n",
       "    </tr>\n",
       "  </thead>\n",
       "  <tbody>\n",
       "    <tr>\n",
       "      <th>0</th>\n",
       "      <td>matières grasses</td>\n",
       "      <td>huiles et graisses végétales</td>\n",
       "      <td>-</td>\n",
       "      <td>huile d'olive vierge extra</td>\n",
       "      <td>9</td>\n",
       "      <td>902</td>\n",
       "      <td>0</td>\n",
       "      <td>17270</td>\n",
       "      <td>270.0</td>\n",
       "      <td>0.03</td>\n",
       "      <td>...</td>\n",
       "      <td>0.00</td>\n",
       "      <td>0.0</td>\n",
       "      <td>0.00</td>\n",
       "      <td>0.0</td>\n",
       "      <td>0.0</td>\n",
       "      <td>0.0</td>\n",
       "      <td>0.0</td>\n",
       "      <td>0.0</td>\n",
       "      <td>0.00</td>\n",
       "      <td>0.000</td>\n",
       "    </tr>\n",
       "    <tr>\n",
       "      <th>1</th>\n",
       "      <td>viandes, œufs, poissons et assimilés</td>\n",
       "      <td>viandes crues</td>\n",
       "      <td>poulet</td>\n",
       "      <td>poulet, viande et peau, cru</td>\n",
       "      <td>4</td>\n",
       "      <td>402</td>\n",
       "      <td>40203</td>\n",
       "      <td>36016</td>\n",
       "      <td>346.0</td>\n",
       "      <td>136.20</td>\n",
       "      <td>...</td>\n",
       "      <td>1.08</td>\n",
       "      <td>20.8</td>\n",
       "      <td>2.58</td>\n",
       "      <td>124.6</td>\n",
       "      <td>348.0</td>\n",
       "      <td>24.8</td>\n",
       "      <td>2.6</td>\n",
       "      <td>NaN</td>\n",
       "      <td>0.28</td>\n",
       "      <td>0.052</td>\n",
       "    </tr>\n",
       "  </tbody>\n",
       "</table>\n",
       "<p>2 rows × 51 columns</p>\n",
       "</div>"
      ],
      "text/plain": [
       "                            grp_name_fr                 ssgrp_name_fr  \\\n",
       "0                      matières grasses  huiles et graisses végétales   \n",
       "1  viandes, œufs, poissons et assimilés                 viandes crues   \n",
       "\n",
       "  ssssgrp_name_fr                      name_fr  grp_code  ssgrp_code  \\\n",
       "0               -   huile d'olive vierge extra         9         902   \n",
       "1          poulet  poulet, viande et peau, cru         4         402   \n",
       "\n",
       "   ssssgrp_code   code  energy_kcal  water_g  ...  vit_b6_mg  vit_b9_ug  \\\n",
       "0             0  17270        270.0     0.03  ...       0.00        0.0   \n",
       "1         40203  36016        346.0   136.20  ...       1.08       20.8   \n",
       "\n",
       "   vit_b12_ug  sodium_mg  phosphore_mg  selenium_ug  zinc_mg  chlorure_mg  \\\n",
       "0        0.00        0.0           0.0          0.0      0.0          0.0   \n",
       "1        2.58      124.6         348.0         24.8      2.6          NaN   \n",
       "\n",
       "   cu_mg  mn_mg  \n",
       "0   0.00  0.000  \n",
       "1   0.28  0.052  \n",
       "\n",
       "[2 rows x 51 columns]"
      ]
     },
     "execution_count": 9,
     "metadata": {},
     "output_type": "execute_result"
    }
   ],
   "source": [
    "d.get_nutri()"
   ]
  },
  {
   "cell_type": "code",
   "execution_count": null,
   "metadata": {},
   "outputs": [],
   "source": [
    "class Menu:\n",
    "    def __init__(self, name, dishes: List[Dish]):\n",
    "        self.name = name\n",
    "        self.dishes = dishes\n",
    "\n",
    "    def __str__(self):\n",
    "        return f\"{self.name} ({len(self.dishes)} dishes)\"\n",
    "\n",
    "    def __repr__(self):\n",
    "        return f\"{self.name} ({len(self.dishes)} dishes)\"\n",
    "\n",
    "    def __len__(self):\n",
    "        return len(self.dishes)\n",
    "\n",
    "    def __iter__(self):\n",
    "        return iter(self.dishes)\n",
    "\n",
    "    def __getitem__(self, idx):\n",
    "        return self.dishes[idx]\n",
    "\n",
    "    def __setitem__(self, idx, value):\n",
    "        self.dishes[idx] = value\n",
    "\n",
    "    def __delitem__(self, idx):\n",
    "        del self.dishes[idx]\n",
    "\n",
    "    def __contains__(self, item):\n",
    "        return item in self.dishes\n",
    "\n",
    "    def __add__(self, other):\n",
    "        return Menu(self.name + \" & \" + other.name, self.dishes + other.dishes)\n",
    "\n",
    "    def __iadd__(self, other):\n",
    "        self.dishes += other.dishes\n",
    "        return self\n",
    "\n",
    "    def get_portion(self, portion_g):\n",
    "        return Menu(self.name, [dish.get_portion(portion_g) for dish in self.dishes])\n",
    "\n",
    "    def get_nutri(self):\n",
    "        return pd.DataFrame(data=[dish.get_nutri() for dish in self.dishes]).sum()"
   ]
  },
  {
   "cell_type": "code",
   "execution_count": 14,
   "metadata": {},
   "outputs": [],
   "source": [
    "a = Dish(\n",
    "    \"a\",\n",
    "    [\n",
    "        Ingredient(Aliment.from_row(df.iloc[0]), 100),\n",
    "        Ingredient(Aliment.from_row(df.iloc[10]), 100),\n",
    "    ],\n",
    ")"
   ]
  },
  {
   "cell_type": "code",
   "execution_count": 15,
   "metadata": {},
   "outputs": [
    {
     "data": {
      "text/plain": [
       "grp_name_fr           fruits, légumes, légumineuses et oléagineuxfru...\n",
       "ssgrp_name_fr                                            légumeslégumes\n",
       "ssssgrp_name_fr                                légumes cruslégumes crus\n",
       "name_fr                           avocat, pulpe, crucéleri branche, cru\n",
       "grp_code                                                              4\n",
       "ssgrp_code                                                          402\n",
       "ssssgrp_code                                                      40202\n",
       "code                                                              33027\n",
       "energy_kcal                                                       222.6\n",
       "water_g                                                           163.7\n",
       "prot_g                                                             2.19\n",
       "glucid_g                                                           3.24\n",
       "lipid_g                                                            20.6\n",
       "sugar_g                                                             1.7\n",
       "sugar_fructose_g                                                    0.6\n",
       "sugar_galactose_g                                                 0.423\n",
       "sugar_glucose_g                                                    0.67\n",
       "sugar_lactose_g                                                     0.0\n",
       "sugar_maltose_g                                                     0.0\n",
       "sugar_saccharose_g                                                  0.0\n",
       "amidon_g                                                            0.0\n",
       "fiber_g                                                             5.8\n",
       "alcool_g                                                            0.0\n",
       "acid_sat_g                                                         4.51\n",
       "acid_monoinsat_g                                                   12.3\n",
       "acid_polyinsat_g                                                   2.83\n",
       "cholesterol_g                                                       0.0\n",
       "salt_g                                                            0.215\n",
       "calcium_g                                                          55.4\n",
       "iron_mg                                                             0.4\n",
       "mg_mg                                                              32.0\n",
       "vit_a_ug                                                            0.0\n",
       "vit_d_ug                                                            0.0\n",
       "vit_e_ug                                                           2.23\n",
       "vit_k1_ug                                                         19.36\n",
       "vit_k2_ug                                                           0.0\n",
       "vit_c_mg                                                           5.51\n",
       "vit_b1_mg                                                         0.052\n",
       "vit_b2_mg                                                         0.037\n",
       "vit_b3_mg                                                          1.56\n",
       "vit_b5_mg                                                          1.34\n",
       "vit_b6_mg                                                         0.222\n",
       "vit_b9_ug                                                         127.2\n",
       "vit_b12_ug                                                          0.0\n",
       "dtype: object"
      ]
     },
     "execution_count": 15,
     "metadata": {},
     "output_type": "execute_result"
    }
   ],
   "source": [
    "a.get_nutri()"
   ]
  },
  {
   "cell_type": "code",
   "execution_count": null,
   "metadata": {},
   "outputs": [],
   "source": []
  }
 ],
 "metadata": {
  "kernelspec": {
   "display_name": "nutri-checker-A2yMdxmR-py3.11",
   "language": "python",
   "name": "python3"
  },
  "language_info": {
   "codemirror_mode": {
    "name": "ipython",
    "version": 3
   },
   "file_extension": ".py",
   "mimetype": "text/x-python",
   "name": "python",
   "nbconvert_exporter": "python",
   "pygments_lexer": "ipython3",
   "version": "3.11.9"
  }
 },
 "nbformat": 4,
 "nbformat_minor": 2
}
