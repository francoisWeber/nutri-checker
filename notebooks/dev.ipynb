{
 "cells": [
  {
   "cell_type": "code",
   "execution_count": 1,
   "metadata": {},
   "outputs": [],
   "source": [
    "from nutri_checker.data.loader import load_nutri_data, FINAL_COLUMNS, COLUMNS_QUANTI, COLUMNS_QUALI\n",
    "from nutri_checker.search.bm25 import NutriIndex, BM25Index\n",
    "import pandas as pd\n",
    "from dataclasses import dataclass\n",
    "from loguru import logger"
   ]
  },
  {
   "cell_type": "code",
   "execution_count": 2,
   "metadata": {},
   "outputs": [],
   "source": [
    "NUTRIDATA_PATH = \"/Users/francois.weber/code/nutri-checker/data/table_Ciqual_2020_FR_20200707.xls\""
   ]
  },
  {
   "cell_type": "code",
   "execution_count": 3,
   "metadata": {},
   "outputs": [],
   "source": [
    "df = load_nutri_data(NUTRIDATA_PATH)\n",
    "nutri_index = NutriIndex(df)"
   ]
  },
  {
   "cell_type": "code",
   "execution_count": 7,
   "metadata": {},
   "outputs": [],
   "source": [
    "from dataclasses import dataclass, asdict\n",
    "\n",
    "@dataclass\n",
    "class Aliment:\n",
    "    grp_name_fr: str\n",
    "    ssgrp_name_fr: str\n",
    "    ssssgrp_name_fr: str\n",
    "    name_fr: str\n",
    "    grp_code: int\n",
    "    ssgrp_code: int\n",
    "    ssssgrp_code: int\n",
    "    code: int\n",
    "    # spec\n",
    "    energy_kcal: float\n",
    "    water_g: float\n",
    "    prot_g: float\n",
    "    glucid_g: float\n",
    "    lipid_g: float\n",
    "    sugar_g: float\n",
    "    sugar_fructose_g: float\n",
    "    sugar_galactose_g: float\n",
    "    sugar_glucose_g: float\n",
    "    sugar_lactose_g: float\n",
    "    sugar_maltose_g: float\n",
    "    sugar_saccharose_g: float\n",
    "    amidon_g: float\n",
    "    fiber_g: float\n",
    "    alcool_g: float\n",
    "    acid_sat_g: float\n",
    "    acid_monoinsat_g: float\n",
    "    acid_polyinsat_g: float\n",
    "    cholesterol_g: float\n",
    "    salt_g: float\n",
    "    calcium_g: float\n",
    "    iron_mg: float\n",
    "    mg_mg: float\n",
    "    vit_a_ug: float\n",
    "    vit_d_ug: float\n",
    "    vit_e_ug: float\n",
    "    vit_k1_ug: float\n",
    "    vit_k2_ug: float\n",
    "    vit_c_mg: float\n",
    "    vit_b1_mg: float\n",
    "    vit_b2_mg: float\n",
    "    vit_b3_mg: float\n",
    "    vit_b5_mg: float\n",
    "    vit_b6_mg: float\n",
    "    vit_b9_ug: float\n",
    "    vit_b12_ug: float\n",
    "    # technical\n",
    "    raw_food: bool\n",
    "    \n",
    "    def __post_init__(self):\n",
    "        if not self.raw_food:\n",
    "            logger.warning(f\"Aliment {self.name_fr} is not raw food\")\n",
    "    \n",
    "    @classmethod\n",
    "    def from_row(cls, row):\n",
    "        return cls(**row.to_dict())\n",
    "    \n",
    "    \n",
    "    @classmethod\n",
    "    def from_name_in_nutridata(cls, name: str, nutri_index: NutriIndex):\n",
    "        if not any(cook_mode in name.lower() for cook_mode in [\"cuit\", \"cuite\", \"cuisiné\", \"cuisinée\"]):\n",
    "            name = name + \" \" + \"cru\"\n",
    "            \n",
    "        aliment = nutri_index.retrieve(name, k=1).iloc[0].to_dict()\n",
    "        return cls(**aliment)\n",
    "    \n",
    "    def get_nutritive_spec(self) -> pd.Series:\n",
    "        return pd.Series(asdict(self))\n",
    "        "
   ]
  },
  {
   "cell_type": "code",
   "execution_count": 8,
   "metadata": {},
   "outputs": [],
   "source": [
    "@dataclass\n",
    "class Ingredient:\n",
    "    aliment: Aliment\n",
    "    quantity_g: float\n",
    "    \n",
    "    def get_nutritive_spec(self) -> pd.Series:\n",
    "        nutritive_unit_row = self.aliment.get_nutritive_spec()\n",
    "        return pd.concat([nutritive_unit_row[COLUMNS_QUALI], nutritive_unit_row[COLUMNS_QUANTI] * 3])\n",
    "    \n",
    "    \n",
    "@dataclass\n",
    "class Pan:\n",
    "    name: str\n",
    "    weight: float\n",
    "    "
   ]
  },
  {
   "cell_type": "code",
   "execution_count": 9,
   "metadata": {},
   "outputs": [],
   "source": [
    "class IndustrialDish(Aliment):\n",
    "    def __post_init__(self):\n",
    "        pass\n",
    "    \n",
    "    def set_nutritive_spec(self, nutritive_details_from_package: dict) -> None:\n",
    "        for key, value in nutritive_details_from_package.items():\n",
    "            if not hasattr(self, key):\n",
    "                logger.warning(f\"Nutritive detail {key} not found in Aliment\")\n",
    "                continue\n",
    "            setattr(self, key, value)\n",
    "        "
   ]
  },
  {
   "cell_type": "code",
   "execution_count": 10,
   "metadata": {},
   "outputs": [],
   "source": [
    "from typing import List\n",
    "\n",
    "class Dish:\n",
    "    def __init__(self, name, ingredients: List[Ingredient], total_weight_g=None, final_weight_g=None):\n",
    "        self.name = name\n",
    "        self.ingredients = ingredients\n",
    "        self.total_weight_g = total_weight_g or sum(ing.quantity_g for ing in ingredients)\n",
    "        # final weight after water evaporation. Default to total weight\n",
    "        self.final_weight_g = final_weight_g if final_weight_g else self.total_weight_g\n",
    "\n",
    "    def __str__(self):\n",
    "        return f\"{self.name} ({len(self.ingredients)} ingredients)\"\n",
    "    \n",
    "    def __repr__(self):\n",
    "        return f\"{self.name} ({len(self.ingredients)} ingredients)\"\n",
    "    \n",
    "    def __len__(self):\n",
    "        return len(self.ingredients)\n",
    "\n",
    "    def __iter__(self):\n",
    "        return iter(self.ingredients)\n",
    "    \n",
    "    def __getitem__(self, idx):\n",
    "        return self.ingredients[idx]\n",
    "    \n",
    "    def __setitem__(self, idx, value):\n",
    "        self.ingredients[idx] = value\n",
    "    \n",
    "    def __delitem__(self, idx):\n",
    "        del self.ingredients[idx]\n",
    "    \n",
    "    def __contains__(self, item):\n",
    "        return item in self.ingredients\n",
    "    \n",
    "    def __add__(self, other):\n",
    "        return Dish(self.name + \" & \" + other.name, self.ingredients + other.ingredients)\n",
    "    \n",
    "    def __iadd__(self, other):\n",
    "        self.ingredients += other.ingredients\n",
    "        return self\n",
    "    \n",
    "    def get_portion(self, portion_g):\n",
    "        return Dish(self.name, [Ingredient(ing.aliment, portion_g * ing.quantity_g / self.final_weight_g) for ing in self.ingredients], total_weight_g=portion_g)\n",
    "    \n",
    "    def get_nutri(self):\n",
    "        return pd.DataFrame(data=[ing.get_nutritive_spec() for ing in self.ingredients])"
   ]
  },
  {
   "cell_type": "code",
   "execution_count": 14,
   "metadata": {},
   "outputs": [],
   "source": [
    "d = Dish(\"test\", ingredients=[Ingredient(Aliment.from_name_in_nutridata(\"Pomme\", nutri_index), 300), Ingredient(Aliment.from_name_in_nutridata(\"Banane\", nutri_index), 100)])"
   ]
  },
  {
   "cell_type": "code",
   "execution_count": 16,
   "metadata": {},
   "outputs": [
    {
     "data": {
      "application/vnd.microsoft.datawrangler.viewer.v0+json": {
       "columns": [
        {
         "name": "index",
         "rawType": "int64",
         "type": "integer"
        },
        {
         "name": "grp_name_fr",
         "rawType": "object",
         "type": "string"
        },
        {
         "name": "ssgrp_name_fr",
         "rawType": "object",
         "type": "string"
        },
        {
         "name": "ssssgrp_name_fr",
         "rawType": "object",
         "type": "string"
        },
        {
         "name": "name_fr",
         "rawType": "object",
         "type": "string"
        },
        {
         "name": "grp_code",
         "rawType": "int64",
         "type": "integer"
        },
        {
         "name": "ssgrp_code",
         "rawType": "int64",
         "type": "integer"
        },
        {
         "name": "ssssgrp_code",
         "rawType": "int64",
         "type": "integer"
        },
        {
         "name": "code",
         "rawType": "int64",
         "type": "integer"
        },
        {
         "name": "energy_kcal",
         "rawType": "float64",
         "type": "float"
        },
        {
         "name": "water_g",
         "rawType": "float64",
         "type": "float"
        },
        {
         "name": "prot_g",
         "rawType": "float64",
         "type": "float"
        },
        {
         "name": "glucid_g",
         "rawType": "float64",
         "type": "float"
        },
        {
         "name": "lipid_g",
         "rawType": "float64",
         "type": "float"
        },
        {
         "name": "sugar_g",
         "rawType": "float64",
         "type": "float"
        },
        {
         "name": "sugar_fructose_g",
         "rawType": "float64",
         "type": "float"
        },
        {
         "name": "sugar_galactose_g",
         "rawType": "float64",
         "type": "float"
        },
        {
         "name": "sugar_glucose_g",
         "rawType": "float64",
         "type": "float"
        },
        {
         "name": "sugar_lactose_g",
         "rawType": "float64",
         "type": "float"
        },
        {
         "name": "sugar_maltose_g",
         "rawType": "float64",
         "type": "float"
        },
        {
         "name": "sugar_saccharose_g",
         "rawType": "float64",
         "type": "float"
        },
        {
         "name": "amidon_g",
         "rawType": "float64",
         "type": "float"
        },
        {
         "name": "fiber_g",
         "rawType": "float64",
         "type": "float"
        },
        {
         "name": "alcool_g",
         "rawType": "float64",
         "type": "float"
        },
        {
         "name": "acid_sat_g",
         "rawType": "float64",
         "type": "float"
        },
        {
         "name": "acid_monoinsat_g",
         "rawType": "float64",
         "type": "float"
        },
        {
         "name": "acid_polyinsat_g",
         "rawType": "float64",
         "type": "float"
        },
        {
         "name": "cholesterol_g",
         "rawType": "float64",
         "type": "float"
        },
        {
         "name": "salt_g",
         "rawType": "float64",
         "type": "float"
        },
        {
         "name": "calcium_g",
         "rawType": "float64",
         "type": "float"
        },
        {
         "name": "iron_mg",
         "rawType": "float64",
         "type": "float"
        },
        {
         "name": "mg_mg",
         "rawType": "float64",
         "type": "float"
        },
        {
         "name": "vit_a_ug",
         "rawType": "float64",
         "type": "float"
        },
        {
         "name": "vit_d_ug",
         "rawType": "float64",
         "type": "float"
        },
        {
         "name": "vit_e_ug",
         "rawType": "float64",
         "type": "float"
        },
        {
         "name": "vit_k1_ug",
         "rawType": "float64",
         "type": "float"
        },
        {
         "name": "vit_k2_ug",
         "rawType": "float64",
         "type": "float"
        },
        {
         "name": "vit_c_mg",
         "rawType": "float64",
         "type": "float"
        },
        {
         "name": "vit_b1_mg",
         "rawType": "float64",
         "type": "float"
        },
        {
         "name": "vit_b2_mg",
         "rawType": "float64",
         "type": "float"
        },
        {
         "name": "vit_b3_mg",
         "rawType": "float64",
         "type": "float"
        },
        {
         "name": "vit_b5_mg",
         "rawType": "float64",
         "type": "float"
        },
        {
         "name": "vit_b6_mg",
         "rawType": "float64",
         "type": "float"
        },
        {
         "name": "vit_b9_ug",
         "rawType": "float64",
         "type": "float"
        },
        {
         "name": "vit_b12_ug",
         "rawType": "float64",
         "type": "float"
        }
       ],
       "conversionMethod": "pd.DataFrame",
       "ref": "7708231d-9ba8-497c-b98c-b1b362cff425",
       "rows": [
        [
         "0",
         "fruits, légumes, légumineuses et oléagineux",
         "fruits",
         "fruits crus",
         "pomme, pulpe, crue",
         "2",
         "204",
         "20401",
         "13050",
         "113.625",
         "260.1",
         "0.81",
         "32.099999999999994",
         "0.39",
         "30.299999999999997",
         "18.09",
         "0.0",
         "9.75",
         "0.0",
         "0.0",
         "2.46",
         "0.0",
         "3.9000000000000004",
         "0.0",
         "0.063",
         "0.015",
         "0.11099999999999999",
         "0.0",
         "0.0",
         "15.0",
         "0.21000000000000002",
         "12.0",
         "0.0",
         "0.0",
         "0.15000000000000002",
         "1.7999999999999998",
         "0.0",
         "12.0",
         "0.056999999999999995",
         "0.084",
         "0.273",
         "0.21299999999999997",
         "0.11099999999999999",
         "0.0",
         "0.0"
        ],
        [
         "1",
         "fruits, légumes, légumineuses et oléagineux",
         "fruits",
         "fruits crus",
         "banane, pulpe, crue",
         "2",
         "204",
         "20401",
         "13005",
         "271.5",
         "227.39999999999998",
         "3.18",
         "59.099999999999994",
         "0.0",
         "46.8",
         "11.399999999999999",
         "0.0",
         "11.7",
         "0.0",
         "0.0",
         "23.700000000000003",
         "11.399999999999999",
         "8.100000000000001",
         "0.0",
         "0.0",
         "0.0",
         "0.0",
         "0.0",
         "0.0",
         "15.299999999999999",
         "0.6000000000000001",
         "84.0",
         "0.0",
         "0.0",
         "0.0",
         "0.0",
         "0.0",
         "21.48",
         "0.162",
         "0.0",
         "1.17",
         "0.9299999999999999",
         "0.54",
         "57.0",
         "0.0"
        ]
       ],
       "shape": {
        "columns": 44,
        "rows": 2
       }
      },
      "text/html": [
       "<div>\n",
       "<style scoped>\n",
       "    .dataframe tbody tr th:only-of-type {\n",
       "        vertical-align: middle;\n",
       "    }\n",
       "\n",
       "    .dataframe tbody tr th {\n",
       "        vertical-align: top;\n",
       "    }\n",
       "\n",
       "    .dataframe thead th {\n",
       "        text-align: right;\n",
       "    }\n",
       "</style>\n",
       "<table border=\"1\" class=\"dataframe\">\n",
       "  <thead>\n",
       "    <tr style=\"text-align: right;\">\n",
       "      <th></th>\n",
       "      <th>grp_name_fr</th>\n",
       "      <th>ssgrp_name_fr</th>\n",
       "      <th>ssssgrp_name_fr</th>\n",
       "      <th>name_fr</th>\n",
       "      <th>grp_code</th>\n",
       "      <th>ssgrp_code</th>\n",
       "      <th>ssssgrp_code</th>\n",
       "      <th>code</th>\n",
       "      <th>energy_kcal</th>\n",
       "      <th>water_g</th>\n",
       "      <th>...</th>\n",
       "      <th>vit_k1_ug</th>\n",
       "      <th>vit_k2_ug</th>\n",
       "      <th>vit_c_mg</th>\n",
       "      <th>vit_b1_mg</th>\n",
       "      <th>vit_b2_mg</th>\n",
       "      <th>vit_b3_mg</th>\n",
       "      <th>vit_b5_mg</th>\n",
       "      <th>vit_b6_mg</th>\n",
       "      <th>vit_b9_ug</th>\n",
       "      <th>vit_b12_ug</th>\n",
       "    </tr>\n",
       "  </thead>\n",
       "  <tbody>\n",
       "    <tr>\n",
       "      <th>0</th>\n",
       "      <td>fruits, légumes, légumineuses et oléagineux</td>\n",
       "      <td>fruits</td>\n",
       "      <td>fruits crus</td>\n",
       "      <td>pomme, pulpe, crue</td>\n",
       "      <td>2</td>\n",
       "      <td>204</td>\n",
       "      <td>20401</td>\n",
       "      <td>13050</td>\n",
       "      <td>113.625</td>\n",
       "      <td>260.1</td>\n",
       "      <td>...</td>\n",
       "      <td>1.8</td>\n",
       "      <td>0.0</td>\n",
       "      <td>12.00</td>\n",
       "      <td>0.057</td>\n",
       "      <td>0.084</td>\n",
       "      <td>0.273</td>\n",
       "      <td>0.213</td>\n",
       "      <td>0.111</td>\n",
       "      <td>0.0</td>\n",
       "      <td>0.0</td>\n",
       "    </tr>\n",
       "    <tr>\n",
       "      <th>1</th>\n",
       "      <td>fruits, légumes, légumineuses et oléagineux</td>\n",
       "      <td>fruits</td>\n",
       "      <td>fruits crus</td>\n",
       "      <td>banane, pulpe, crue</td>\n",
       "      <td>2</td>\n",
       "      <td>204</td>\n",
       "      <td>20401</td>\n",
       "      <td>13005</td>\n",
       "      <td>271.500</td>\n",
       "      <td>227.4</td>\n",
       "      <td>...</td>\n",
       "      <td>0.0</td>\n",
       "      <td>0.0</td>\n",
       "      <td>21.48</td>\n",
       "      <td>0.162</td>\n",
       "      <td>0.000</td>\n",
       "      <td>1.170</td>\n",
       "      <td>0.930</td>\n",
       "      <td>0.540</td>\n",
       "      <td>57.0</td>\n",
       "      <td>0.0</td>\n",
       "    </tr>\n",
       "  </tbody>\n",
       "</table>\n",
       "<p>2 rows × 44 columns</p>\n",
       "</div>"
      ],
      "text/plain": [
       "                                   grp_name_fr ssgrp_name_fr ssssgrp_name_fr  \\\n",
       "0  fruits, légumes, légumineuses et oléagineux        fruits     fruits crus   \n",
       "1  fruits, légumes, légumineuses et oléagineux        fruits     fruits crus   \n",
       "\n",
       "               name_fr  grp_code  ssgrp_code  ssssgrp_code   code  \\\n",
       "0   pomme, pulpe, crue         2         204         20401  13050   \n",
       "1  banane, pulpe, crue         2         204         20401  13005   \n",
       "\n",
       "   energy_kcal  water_g  ...  vit_k1_ug  vit_k2_ug  vit_c_mg  vit_b1_mg  \\\n",
       "0      113.625    260.1  ...        1.8        0.0     12.00      0.057   \n",
       "1      271.500    227.4  ...        0.0        0.0     21.48      0.162   \n",
       "\n",
       "   vit_b2_mg  vit_b3_mg  vit_b5_mg  vit_b6_mg  vit_b9_ug  vit_b12_ug  \n",
       "0      0.084      0.273      0.213      0.111        0.0         0.0  \n",
       "1      0.000      1.170      0.930      0.540       57.0         0.0  \n",
       "\n",
       "[2 rows x 44 columns]"
      ]
     },
     "execution_count": 16,
     "metadata": {},
     "output_type": "execute_result"
    }
   ],
   "source": [
    "d.get_nutri()"
   ]
  },
  {
   "cell_type": "code",
   "execution_count": null,
   "metadata": {},
   "outputs": [],
   "source": [
    "class Menu:\n",
    "    def __init__(self, name, dishes: List[Dish]):\n",
    "        self.name = name\n",
    "        self.dishes = dishes\n",
    "    \n",
    "    def __str__(self):\n",
    "        return f\"{self.name} ({len(self.dishes)} dishes)\"\n",
    "    \n",
    "    def __repr__(self):\n",
    "        return f\"{self.name} ({len(self.dishes)} dishes)\"\n",
    "    \n",
    "    def __len__(self):\n",
    "        return len(self.dishes)\n",
    "\n",
    "    def __iter__(self):\n",
    "        return iter(self.dishes)\n",
    "    \n",
    "    def __getitem__(self, idx):\n",
    "        return self.dishes[idx]\n",
    "    \n",
    "    def __setitem__(self, idx, value):\n",
    "        self.dishes[idx] = value\n",
    "    \n",
    "    def __delitem__(self, idx):\n",
    "        del self.dishes[idx]\n",
    "    \n",
    "    def __contains__(self, item):\n",
    "        return item in self.dishes\n",
    "    \n",
    "    def __add__(self, other):\n",
    "        return Menu(self.name + \" & \" + other.name, self.dishes + other.dishes)\n",
    "    \n",
    "    def __iadd__(self, other):\n",
    "        self.dishes += other.dishes\n",
    "        return self\n",
    "    \n",
    "    def get_portion(self, portion_g):\n",
    "        return Menu(self.name, [dish.get_portion(portion_g) for dish in self.dishes])\n",
    "    \n",
    "    def get_nutri(self):\n",
    "        return pd.DataFrame(data=[dish.get_nutri() for dish in self.dishes]).sum()"
   ]
  },
  {
   "cell_type": "code",
   "execution_count": 14,
   "metadata": {},
   "outputs": [],
   "source": [
    "a = Dish(\"a\", [\n",
    "    Ingredient(Aliment.from_row(df.iloc[0]), 100),\n",
    "    Ingredient(Aliment.from_row(df.iloc[10]), 100)\n",
    "    ])"
   ]
  },
  {
   "cell_type": "code",
   "execution_count": 15,
   "metadata": {},
   "outputs": [
    {
     "data": {
      "text/plain": [
       "grp_name_fr           fruits, légumes, légumineuses et oléagineuxfru...\n",
       "ssgrp_name_fr                                            légumeslégumes\n",
       "ssssgrp_name_fr                                légumes cruslégumes crus\n",
       "name_fr                           avocat, pulpe, crucéleri branche, cru\n",
       "grp_code                                                              4\n",
       "ssgrp_code                                                          402\n",
       "ssssgrp_code                                                      40202\n",
       "code                                                              33027\n",
       "energy_kcal                                                       222.6\n",
       "water_g                                                           163.7\n",
       "prot_g                                                             2.19\n",
       "glucid_g                                                           3.24\n",
       "lipid_g                                                            20.6\n",
       "sugar_g                                                             1.7\n",
       "sugar_fructose_g                                                    0.6\n",
       "sugar_galactose_g                                                 0.423\n",
       "sugar_glucose_g                                                    0.67\n",
       "sugar_lactose_g                                                     0.0\n",
       "sugar_maltose_g                                                     0.0\n",
       "sugar_saccharose_g                                                  0.0\n",
       "amidon_g                                                            0.0\n",
       "fiber_g                                                             5.8\n",
       "alcool_g                                                            0.0\n",
       "acid_sat_g                                                         4.51\n",
       "acid_monoinsat_g                                                   12.3\n",
       "acid_polyinsat_g                                                   2.83\n",
       "cholesterol_g                                                       0.0\n",
       "salt_g                                                            0.215\n",
       "calcium_g                                                          55.4\n",
       "iron_mg                                                             0.4\n",
       "mg_mg                                                              32.0\n",
       "vit_a_ug                                                            0.0\n",
       "vit_d_ug                                                            0.0\n",
       "vit_e_ug                                                           2.23\n",
       "vit_k1_ug                                                         19.36\n",
       "vit_k2_ug                                                           0.0\n",
       "vit_c_mg                                                           5.51\n",
       "vit_b1_mg                                                         0.052\n",
       "vit_b2_mg                                                         0.037\n",
       "vit_b3_mg                                                          1.56\n",
       "vit_b5_mg                                                          1.34\n",
       "vit_b6_mg                                                         0.222\n",
       "vit_b9_ug                                                         127.2\n",
       "vit_b12_ug                                                          0.0\n",
       "dtype: object"
      ]
     },
     "execution_count": 15,
     "metadata": {},
     "output_type": "execute_result"
    }
   ],
   "source": [
    "a.get_nutri()"
   ]
  },
  {
   "cell_type": "code",
   "execution_count": null,
   "metadata": {},
   "outputs": [],
   "source": []
  }
 ],
 "metadata": {
  "kernelspec": {
   "display_name": "nutri-checker-A2yMdxmR-py3.11",
   "language": "python",
   "name": "python3"
  },
  "language_info": {
   "codemirror_mode": {
    "name": "ipython",
    "version": 3
   },
   "file_extension": ".py",
   "mimetype": "text/x-python",
   "name": "python",
   "nbconvert_exporter": "python",
   "pygments_lexer": "ipython3",
   "version": "3.11.9"
  }
 },
 "nbformat": 4,
 "nbformat_minor": 2
}
